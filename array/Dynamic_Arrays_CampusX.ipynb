{
  "nbformat": 4,
  "nbformat_minor": 0,
  "metadata": {
    "colab": {
      "provenance": [],
      "authorship_tag": "ABX9TyOj8vjpee7aYtf19FgnqlLW",
      "include_colab_link": true
    },
    "kernelspec": {
      "name": "python3",
      "display_name": "Python 3"
    },
    "language_info": {
      "name": "python"
    }
  },
  "cells": [
    {
      "cell_type": "markdown",
      "metadata": {
        "id": "view-in-github",
        "colab_type": "text"
      },
      "source": [
        "<a href=\"https://colab.research.google.com/github/mdishan/Coeluso-music-psd/blob/master/array/Dynamic_Arrays_CampusX.ipynb\" target=\"_parent\"><img src=\"https://colab.research.google.com/assets/colab-badge.svg\" alt=\"Open In Colab\"/></a>"
      ]
    },
    {
      "cell_type": "markdown",
      "source": [
        "# **Python's list is a dynamic Array proof:**"
      ],
      "metadata": {
        "id": "K4407nQU63iz"
      }
    },
    {
      "cell_type": "code",
      "execution_count": null,
      "metadata": {
        "id": "FlLXXdJF6u0S"
      },
      "outputs": [],
      "source": [
        "import sys"
      ]
    },
    {
      "cell_type": "code",
      "source": [
        "L = []\n",
        "for i in range(100):\n",
        "  print(i,sys.getsizeof(L))\n",
        "  L.append(i)"
      ],
      "metadata": {
        "id": "ngj9DDeq95dw"
      },
      "execution_count": null,
      "outputs": []
    },
    {
      "cell_type": "markdown",
      "source": [
        "# **Linnear Araay**"
      ],
      "metadata": {
        "id": "FOULzfXzfeiJ"
      }
    },
    {
      "cell_type": "code",
      "source": [
        "import ctypes"
      ],
      "metadata": {
        "id": "dF-_QxB0fa1y"
      },
      "execution_count": 2,
      "outputs": []
    },
    {
      "cell_type": "code",
      "source": [
        "class MyList:\n",
        "\n",
        "  #1\n",
        "  def __init__(self):\n",
        "    self.size = 1\n",
        "    self.n = 0  #length = 0\n",
        "    self.A = self.__make_array(self.size)  #create a C type array with size = self.size\n",
        "\n",
        "  #3\n",
        "  def __len__(self):\n",
        "    return self.n\n",
        "\n",
        "  #6\n",
        "  def __str__(self):\n",
        "    result = ''\n",
        "    for i in range(self.n):\n",
        "      result = result + str(self.A[i]) + ','\n",
        "\n",
        "    return '[' + result[:-1] + ']'\n",
        "\n",
        "\n",
        "  #7\n",
        "  def __getitem__(self,index):\n",
        "    if 0 <= index < self.n:\n",
        "      return self.A[index]\n",
        "\n",
        "    else:\n",
        "      return 'IndexError - Index out of range'\n",
        "\n",
        "\n",
        "  #12\n",
        "  def __delitem__(self,pos):\n",
        "    if 0 <= pos < self.n:  #1\n",
        "\n",
        "      for i in range(pos,self.n-1):  #2 shifting to left\n",
        "        self.A[i] = self.A[i+1]\n",
        "\n",
        "      self.n = self.n - 1  #3 decreasing\n",
        "\n",
        "\n",
        "  #13\n",
        "  def remove(self,item):\n",
        "    pos = self.find(item)  #1\n",
        "\n",
        "    if type(pos) == int:  #2\n",
        "      self.__delitem__(pos)\n",
        "\n",
        "    else:  #3\n",
        "      return pos\n",
        "\n",
        "\n",
        "  #8\n",
        "  def pop(self):\n",
        "    if self.n == 0:  #1\n",
        "      return 'Empty list'\n",
        "\n",
        "    print(self.A[self.n-1])\n",
        "    self.n = self.n - 1  # 2decreasing the index\n",
        "\n",
        "  #4\n",
        "  def append(self,item):\n",
        "    if self.n == self.size:\n",
        "      #1resize\n",
        "      self.__resize(self.size * 2)\n",
        "\n",
        "    #2append\n",
        "    self.A[self.n] = item\n",
        "    self.n = self.n + 1\n",
        "\n",
        "  #9\n",
        "  def clear(self):\n",
        "    self.n = 0\n",
        "    self.size = 1\n",
        "\n",
        "\n",
        "  #10\n",
        "  def find(self,item):\n",
        "\n",
        "    for i in range(self.n):\n",
        "      if self.A[i] == item:\n",
        "        return i\n",
        "\n",
        "    return 'ValueError - Not in the list'\n",
        "\n",
        "\n",
        "  #11\n",
        "  def insert(self,pos,item):\n",
        "\n",
        "    if 0 <= pos < self.n:  #1 checking if it's a valid index\n",
        "\n",
        "      if self.n == self.size:  #2 checking if it is already full or not\n",
        "        self.__resize(self.size*2)\n",
        "\n",
        "      for i in range(self.n,pos,-1):  #3 shifting from right side\n",
        "        self.A[i] = self.A[i-1]\n",
        "\n",
        "      self.A[pos] = item  #4 insert the item in position\n",
        "      self.n = self.n + 1\n",
        "\n",
        "\n",
        "    else:  #5\n",
        "      return 'IndexError'\n",
        "\n",
        "  #5\n",
        "  def __resize(self,new_capacity):\n",
        "    B = self.__make_array(new_capacity)  #1creating a new array with new capacity\n",
        "    self.size = new_capacity  #2\n",
        "\n",
        "    for i in range(self.n):  #3 copy the content of A to B\n",
        "      B[i] = self.A[i]\n",
        "\n",
        "\n",
        "    self.A = B  #4 reassign A\n",
        "\n",
        "\n",
        "  #2\n",
        "  def __make_array(self,capacity):\n",
        "\n",
        "    return (capacity * ctypes.py_object)()  #creates a C type array(static,referential) with size capacity\n",
        "\n",
        "\n"
      ],
      "metadata": {
        "id": "9eUEZdAvf0M4"
      },
      "execution_count": 21,
      "outputs": []
    },
    {
      "cell_type": "code",
      "source": [
        "L = MyList()"
      ],
      "metadata": {
        "id": "8RD0kK-lhURx"
      },
      "execution_count": 22,
      "outputs": []
    },
    {
      "cell_type": "code",
      "source": [
        "L.append('Hello')\n",
        "L.append(3.4)\n",
        "L.append(True)\n",
        "L.append(100)"
      ],
      "metadata": {
        "id": "8oUfyiqYQMlZ"
      },
      "execution_count": 23,
      "outputs": []
    },
    {
      "cell_type": "code",
      "source": [
        "L.append(5)"
      ],
      "metadata": {
        "id": "ocJOELKKeb6M"
      },
      "execution_count": null,
      "outputs": []
    },
    {
      "cell_type": "code",
      "source": [
        "L[4]"
      ],
      "metadata": {
        "colab": {
          "base_uri": "https://localhost:8080/",
          "height": 35
        },
        "id": "aFxe8Yt2lIQv",
        "outputId": "599b41ce-467e-438c-811d-6d102943304a"
      },
      "execution_count": null,
      "outputs": [
        {
          "output_type": "execute_result",
          "data": {
            "text/plain": [
              "'IndexError - Index out of range'"
            ],
            "application/vnd.google.colaboratory.intrinsic+json": {
              "type": "string"
            }
          },
          "metadata": {},
          "execution_count": 81
        }
      ]
    },
    {
      "cell_type": "code",
      "source": [
        "L.pop()"
      ],
      "metadata": {
        "colab": {
          "base_uri": "https://localhost:8080/",
          "height": 35
        },
        "id": "5S-KLm06owa9",
        "outputId": "6fe08259-3931-4f75-995a-5a223f5efc3d"
      },
      "execution_count": null,
      "outputs": [
        {
          "output_type": "execute_result",
          "data": {
            "text/plain": [
              "'Empty list'"
            ],
            "application/vnd.google.colaboratory.intrinsic+json": {
              "type": "string"
            }
          },
          "metadata": {},
          "execution_count": 104
        }
      ]
    },
    {
      "cell_type": "code",
      "source": [
        "L.clear()"
      ],
      "metadata": {
        "id": "Nu2e8YFlrlDq"
      },
      "execution_count": null,
      "outputs": []
    },
    {
      "cell_type": "code",
      "source": [
        "print(L)"
      ],
      "metadata": {
        "colab": {
          "base_uri": "https://localhost:8080/"
        },
        "id": "6HagARL1hf9g",
        "outputId": "6a161ec8-c8b1-4c00-97f8-632634556f5d"
      },
      "execution_count": 28,
      "outputs": [
        {
          "output_type": "stream",
          "name": "stdout",
          "text": [
            "[Hello,3.4]\n"
          ]
        }
      ]
    },
    {
      "cell_type": "code",
      "source": [
        "L.insert(2,'World')"
      ],
      "metadata": {
        "id": "rwSqPtGUlGvS"
      },
      "execution_count": 21,
      "outputs": []
    },
    {
      "cell_type": "code",
      "source": [
        "L.find(2)"
      ],
      "metadata": {
        "colab": {
          "base_uri": "https://localhost:8080/",
          "height": 35
        },
        "id": "P8R-vVVGU7in",
        "outputId": "c6da212b-761d-42d0-c1fc-23c45f3ab2e6"
      },
      "execution_count": 23,
      "outputs": [
        {
          "output_type": "execute_result",
          "data": {
            "text/plain": [
              "'ValueError - Not in the list'"
            ],
            "application/vnd.google.colaboratory.intrinsic+json": {
              "type": "string"
            }
          },
          "metadata": {},
          "execution_count": 23
        }
      ]
    },
    {
      "cell_type": "code",
      "source": [
        "del L[2]"
      ],
      "metadata": {
        "id": "R7onn20ZMty9"
      },
      "execution_count": 11,
      "outputs": []
    },
    {
      "cell_type": "code",
      "source": [
        "L.remove(True)"
      ],
      "metadata": {
        "id": "gArLsQnIQg44"
      },
      "execution_count": 27,
      "outputs": []
    }
  ]
}